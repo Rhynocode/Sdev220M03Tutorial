{
 "cells": [
  {
   "cell_type": "markdown",
   "id": "3dbf7f5a-f262-48cf-a625-ada103d61ee0",
   "metadata": {},
   "source": [
    "Ryan Hayes\n",
    "Sdev220\n",
    "Module 3 Tutorial - Functional vs OOP Programming"
   ]
  },
  {
   "cell_type": "code",
   "execution_count": 3,
   "id": "62742cac-dbd8-40be-ae57-0b624e8808df",
   "metadata": {},
   "outputs": [
    {
     "name": "stdout",
     "output_type": "stream",
     "text": [
      "[0, 0, 1, 2, 2]\n",
      "[0, 0, 1]\n"
     ]
    }
   ],
   "source": [
    "#Sort an array of 0's, 1's, and 2's\n",
    "\n",
    "class Solution:\n",
    "    def sort012(self, arr, N):\n",
    "        low = 0\n",
    "        mid = 0\n",
    "        high = N - 1\n",
    "\n",
    "        while mid <= high:\n",
    "            if arr[mid] == 0:\n",
    "                arr[low], arr[mid] = arr[mid], arr[low]\n",
    "                low += 1\n",
    "                mid += 1\n",
    "            elif arr[mid] == 1:\n",
    "                mid += 1\n",
    "            else:\n",
    "                arr[mid], arr[high] = arr[high], arr[mid]\n",
    "                high -= 1\n",
    "                \n",
    "        return arr\n",
    "\n",
    "# Example usage\n",
    "if __name__ == \"__main__\":\n",
    "    ob = Solution()\n",
    "    \n",
    "    # For the first example\n",
    "    N = 5\n",
    "    arr = [0, 2, 1, 2, 0]\n",
    "    print(ob.sort012(arr, N))  # Expected Output: 0 0 1 2 2\n",
    "\n",
    "    # For the second example (Run separately if comparing outputs individually)\n",
    "    N = 3\n",
    "    arr = [0, 1, 0]\n",
    "    print(ob.sort012(arr, N))  # Expected Output: 0 0 1"
   ]
  },
  {
   "cell_type": "code",
   "execution_count": 6,
   "id": "f388c712-daee-4753-8b59-7fd49f375be1",
   "metadata": {},
   "outputs": [
    {
     "name": "stdout",
     "output_type": "stream",
     "text": [
      "3\n",
      "-1\n"
     ]
    }
   ],
   "source": [
    "#Perform a binary search to determine a numbers position in the array\n",
    "\n",
    "class Solution:\t\n",
    "    def binarysearch(self, arr, n, k):\n",
    "        low = 0\n",
    "        high = n - 1\n",
    "        \n",
    "        while low <= high:\n",
    "            mid = (low + high) // 2\n",
    "            if arr[mid] == k:\n",
    "                return mid\n",
    "            elif arr[mid] < k:\n",
    "                low = mid + 1\n",
    "            else:\n",
    "                high = mid - 1\n",
    "        return -1\n",
    "\n",
    "# Create an instance of the Solution class\n",
    "solution_instance = Solution()\n",
    "\n",
    "# Example 1\n",
    "N = 5\n",
    "arr = [1, 2, 3, 4, 5]\n",
    "K = 4\n",
    "# Use the instance to call binarysearch\n",
    "print(solution_instance.binarysearch(arr, N, K))  # Output: 3\n",
    "\n",
    "# Example 2\n",
    "N = 5\n",
    "arr = [11, 22, 33, 44, 55]\n",
    "K = 445\n",
    "# Use the instance to call binarysearch\n",
    "print(solution_instance.binarysearch(arr, N, K))  # Output: -1"
   ]
  },
  {
   "cell_type": "code",
   "execution_count": null,
   "id": "442ed9ae-87d7-4b5f-92da-154efc9f5ad7",
   "metadata": {},
   "outputs": [],
   "source": []
  }
 ],
 "metadata": {
  "kernelspec": {
   "display_name": "Python 3 (ipykernel)",
   "language": "python",
   "name": "python3"
  },
  "language_info": {
   "codemirror_mode": {
    "name": "ipython",
    "version": 3
   },
   "file_extension": ".py",
   "mimetype": "text/x-python",
   "name": "python",
   "nbconvert_exporter": "python",
   "pygments_lexer": "ipython3",
   "version": "3.11.7"
  }
 },
 "nbformat": 4,
 "nbformat_minor": 5
}
