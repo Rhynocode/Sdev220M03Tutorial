{
 "cells": [
  {
   "cell_type": "markdown",
   "id": "3dbf7f5a-f262-48cf-a625-ada103d61ee0",
   "metadata": {},
   "source": [
    "Ryan Hayes\n",
    "Sdev220\n",
    "Module 3 Tutorial - Functional vs OOP Programming"
   ]
  },
  {
   "cell_type": "code",
   "execution_count": 3,
   "id": "62742cac-dbd8-40be-ae57-0b624e8808df",
   "metadata": {},
   "outputs": [
    {
     "name": "stdout",
     "output_type": "stream",
     "text": [
      "[0, 0, 1, 2, 2]\n",
      "[0, 0, 1]\n"
     ]
    }
   ],
   "source": [
    "#Sort an array of 0's, 1's, and 2's\n",
    "\n",
    "class Solution:\n",
    "    def sort012(self, arr, N):\n",
    "        low = 0\n",
    "        mid = 0\n",
    "        high = N - 1\n",
    "\n",
    "        while mid <= high:\n",
    "            if arr[mid] == 0:\n",
    "                arr[low], arr[mid] = arr[mid], arr[low]\n",
    "                low += 1\n",
    "                mid += 1\n",
    "            elif arr[mid] == 1:\n",
    "                mid += 1\n",
    "            else:\n",
    "                arr[mid], arr[high] = arr[high], arr[mid]\n",
    "                high -= 1\n",
    "                \n",
    "        return arr\n",
    "\n",
    "# Example usage\n",
    "if __name__ == \"__main__\":\n",
    "    ob = Solution()\n",
    "    \n",
    "    # For the first example\n",
    "    N = 5\n",
    "    arr = [0, 2, 1, 2, 0]\n",
    "    print(ob.sort012(arr, N))  # Expected Output: 0 0 1 2 2\n",
    "\n",
    "    # For the second example (Run separately if comparing outputs individually)\n",
    "    N = 3\n",
    "    arr = [0, 1, 0]\n",
    "    print(ob.sort012(arr, N))  # Expected Output: 0 0 1"
   ]
  },
  {
   "cell_type": "code",
   "execution_count": 5,
   "id": "f388c712-daee-4753-8b59-7fd49f375be1",
   "metadata": {},
   "outputs": [
    {
     "ename": "NameError",
     "evalue": "name 'binarysearch' is not defined",
     "output_type": "error",
     "traceback": [
      "\u001b[1;31m---------------------------------------------------------------------------\u001b[0m",
      "\u001b[1;31mNameError\u001b[0m                                 Traceback (most recent call last)",
      "Cell \u001b[1;32mIn[5], line 22\u001b[0m\n\u001b[0;32m     20\u001b[0m arr \u001b[38;5;241m=\u001b[39m [\u001b[38;5;241m1\u001b[39m, \u001b[38;5;241m2\u001b[39m, \u001b[38;5;241m3\u001b[39m, \u001b[38;5;241m4\u001b[39m, \u001b[38;5;241m5\u001b[39m]\n\u001b[0;32m     21\u001b[0m K \u001b[38;5;241m=\u001b[39m \u001b[38;5;241m4\u001b[39m\n\u001b[1;32m---> 22\u001b[0m \u001b[38;5;28mprint\u001b[39m(binarysearch(arr, N, K))  \u001b[38;5;66;03m# Output: 3\u001b[39;00m\n\u001b[0;32m     24\u001b[0m N \u001b[38;5;241m=\u001b[39m \u001b[38;5;241m5\u001b[39m\n\u001b[0;32m     25\u001b[0m arr \u001b[38;5;241m=\u001b[39m [\u001b[38;5;241m11\u001b[39m, \u001b[38;5;241m22\u001b[39m, \u001b[38;5;241m33\u001b[39m, \u001b[38;5;241m44\u001b[39m, \u001b[38;5;241m55\u001b[39m]\n",
      "\u001b[1;31mNameError\u001b[0m: name 'binarysearch' is not defined"
     ]
    }
   ],
   "source": [
    "#Perform a binary search to determine a numbers position in the array\n",
    "\n",
    "class Solution:\t\n",
    "    def binarysearch(self, arr, n, k):\n",
    "        low = 0\n",
    "        high = n - 1\n",
    "        \n",
    "        while low <= high:\n",
    "            mid = (low + high) // 2\n",
    "            if arr[mid] == k:\n",
    "                return mid\n",
    "            elif arr[mid] < k:\n",
    "                low = mid + 1\n",
    "            else:\n",
    "                high = mid - 1\n",
    "        return -1\n",
    "\n",
    "# Example usage\n",
    "N = 5\n",
    "arr = [1, 2, 3, 4, 5]\n",
    "K = 4\n",
    "print(binarysearch(arr, N, K))  # Output: 3\n",
    "\n",
    "N = 5\n",
    "arr = [11, 22, 33, 44, 55]\n",
    "K = 445\n",
    "print(binarysearch(arr, N, K))  # Output: -1"
   ]
  },
  {
   "cell_type": "code",
   "execution_count": null,
   "id": "442ed9ae-87d7-4b5f-92da-154efc9f5ad7",
   "metadata": {},
   "outputs": [],
   "source": []
  }
 ],
 "metadata": {
  "kernelspec": {
   "display_name": "Python 3 (ipykernel)",
   "language": "python",
   "name": "python3"
  },
  "language_info": {
   "codemirror_mode": {
    "name": "ipython",
    "version": 3
   },
   "file_extension": ".py",
   "mimetype": "text/x-python",
   "name": "python",
   "nbconvert_exporter": "python",
   "pygments_lexer": "ipython3",
   "version": "3.11.7"
  }
 },
 "nbformat": 4,
 "nbformat_minor": 5
}
